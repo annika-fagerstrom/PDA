{
 "cells": [
  {
   "cell_type": "markdown",
   "metadata": {},
   "source": [
    "# Project 1. Rootfinding\n",
    "\n",
    "The <b>Gompertz curve</b> or Gompertz function is a type of mathematical model named after Benjamin Gompertz (1779-1865). It is a function that describes growth as being slowest at the start and end of a given time period. Population biology is especially concerned with the Gompertz function. This function is especially useful in describing the rapid growth of a certain population of organisms (such as tumors, bacteria, etc.) while also considering the eventual horizontal asymptote once the carrying capacity is determined. The function was originally designed to describe human mortality, but since has been modified to be applied in biology, with regards to detailing populations.\n",
    "\n",
    "It is modeled as follows:\n",
    "\n",
    "$$N(t) = N_0 \\mathrm{exp}((\\ln (N_I/N_0)) (1-\\mathrm{exp}(-bt)) = N_0 e^{(\\ln \\frac{N_I}{N_0}) (1-e^{-bt})}$$\n",
    "\n",
    "where $t$ is the time, $N(t)$ is the population at time $t$, $N_0$ is the initial population, $N_I$ is the plateau population number (the maximum capacity in the given situation), $b$ is the initial growth rate, and $exp(x)$ is the exponential function $e^x$. The unit for $N(t)$, $N_I$, and $N_0$ are millions, and the unit for $t$ is hours.\n",
    "\n",
    "In this project, we are going to write computer programs that determine the amount of time that it takes for $N(t)$ to rise from the initial population $N_0 = 3\\cdot 10^{-5}$ to $1$. We use $N_I = 10^3$ and $b = 0.12$. \n",
    "\n",
    "Note that the solution of $N(t) = 1$ is equivalent to $N(t) - 1 = 0$, so this is a root-finding problem.\n"
   ]
  },
  {
   "cell_type": "markdown",
   "metadata": {},
   "source": [
    "#### 1. (20 pts) Create a Python function bisection(b) that finds the root of $N(t) - 1 = 0$ by the bisection method. The initial interval is $[0, b]$. \n",
    "\n",
    "<ul>\n",
    "    <li>Use an error bound $10^{-6}$.</li>\n",
    "    <li>Allow at most 1000 iterations.</li>\n",
    "    <li>For each step, print the left endpoint $a_n$, the right endpoint $b_n$, and the approximation (= midpoint) $p_n$. </li>\n",
    "</ul>"
   ]
  },
  {
   "cell_type": "code",
   "execution_count": null,
   "metadata": {},
   "outputs": [],
   "source": []
  },
  {
   "cell_type": "markdown",
   "metadata": {},
   "source": [
    "#### 2. (15 pts) Create a Python function newton(x) that finds the root of $N(t) - 1 = 0$ by Newton's method. The initial guess $p_0$ is $x$.\n",
    "\n",
    "<ul>\n",
    "    <li>Calculate the derivative $N'(t)$ manually and use it to code.</li>\n",
    "    <li>Use an error bound $10^{-6}$. Note that the error size is estimated by $|p_{n+1} - p_n|$.</li>\n",
    "    <li>Allow at most 1000 iterations.</li>\n",
    "    <li>For each step, print $p_n$ and the estimation of the error $|p_n - p_{n-1}|$.</li>\n",
    "</ul>"
   ]
  },
  {
   "cell_type": "code",
   "execution_count": null,
   "metadata": {},
   "outputs": [],
   "source": []
  },
  {
   "cell_type": "markdown",
   "metadata": {},
   "source": [
    "#### 3. (15 pts) Create a Python function secant(x0, x1) that finds the root of $N(t) - 1 = 0$ by secant method. $p_0 = x0$ and $p_1 = x1$. \n",
    "\n",
    "<ul>\n",
    "    <li>Use an error bound $10^{-6}$. You may estimate the error size by $|p_{n} - p_{n-1}|$.</li>\n",
    "    <li>Allow at most 1000 iterations.</li>\n",
    "    <li>For each step, print $p_n$ and the estimation of an error $|p_n - p_{n-1}|$.</li>\n",
    "</ul>"
   ]
  },
  {
   "cell_type": "code",
   "execution_count": null,
   "metadata": {},
   "outputs": [],
   "source": []
  }
 ],
 "metadata": {
  "kernelspec": {
   "display_name": "Python 3",
   "language": "python",
   "name": "python3"
  },
  "language_info": {
   "codemirror_mode": {
    "name": "ipython",
    "version": 3
   },
   "file_extension": ".py",
   "mimetype": "text/x-python",
   "name": "python",
   "nbconvert_exporter": "python",
   "pygments_lexer": "ipython3",
   "version": "3.7.3"
  }
 },
 "nbformat": 4,
 "nbformat_minor": 2
}
